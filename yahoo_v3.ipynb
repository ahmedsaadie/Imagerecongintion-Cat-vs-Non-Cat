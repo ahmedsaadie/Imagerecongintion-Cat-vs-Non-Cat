{
 "cells": [
  {
   "cell_type": "code",
   "execution_count": 91,
   "metadata": {},
   "outputs": [],
   "source": [
    "from pandas_datareader import data\n",
    "from pandas_datareader._utils import RemoteDataError \n",
    "import pandas as pd \n",
    "import numpy as np\n",
    "from datetime import datetime\n",
    "import http.client\n",
    "from io import StringIO\n",
    "import requests\n",
    "from pandas.io.json import json_normalize\n",
    "import json\n",
    "\n",
    "#start_date = '2017-01-01'\n",
    "#End_date = str(datetime.now().strftime('%Y-%m-%d')) \n",
    "#print(End_date)"
   ]
  },
  {
   "cell_type": "code",
   "execution_count": 92,
   "metadata": {},
   "outputs": [
    {
     "name": "stdout",
     "output_type": "stream",
     "text": [
      "<class 'dict'>\n",
      "17\n"
     ]
    }
   ],
   "source": [
    "url = \"https://apidojo-yahoo-finance-v1.p.rapidapi.com/stock/v2/get-financials\"\n",
    "symbol = \"SMAR\"\n",
    "querystring = {\"symbol\":\"AMZN\"}\n",
    "\n",
    "headers = {\n",
    "    'x-rapidapi-host': \"apidojo-yahoo-finance-v1.p.rapidapi.com\",\n",
    "    'x-rapidapi-key': \"e95626441cmsh25fba4ace9e568fp1df029jsn7e70f492746c\"\n",
    "    }\n",
    "\n",
    "response = requests.request(\"GET\", url, headers=headers, params=querystring)\n",
    "\n",
    "#print(response.text)\n",
    "\n",
    "d = json.loads(response.text)\n",
    "\n",
    "print(type(d))\n",
    "print(len(d))\n",
    "#print(d)\n",
    "\n",
    "#print(len(d))\n",
    "\n",
    "#resposne ahs following fields:\n",
    "    ##\"cashflowStatementHistory\":{2 items\n",
    "\n",
    "    #\"balanceSheetHistoryQuarterly\":{...}2 items\n",
    "    #\"earnings\":{...}2 items\n",
    "    #\"price\":{...}2 items\n",
    "    #\"incomeStatementHistoryQuarterly\":{...}2 items\n",
    "    #\"incomeStatementHistory\":{...}2 items\n",
    "    #\"balanceSheetHistory\":{...}2 items\n",
    "    #\"cashflowStatementHistoryQuarterly\":{...}2 items\n",
    "    #\"quoteType\":{...}2 items\n",
    "    #\"summaryDetail\":{...}2 items\n",
    "    #\"symbol\":{...}1 item\n",
    "    #\"pageViews\":{...}2 items"
   ]
  },
  {
   "cell_type": "code",
   "execution_count": 93,
   "metadata": {},
   "outputs": [],
   "source": [
    "#cashflowStatementHistoryQuarterly - object - Only \n",
    "#cashflowStatements - array\n",
    "\n",
    "#data_CFSQ = d[\"cashflowStatementHistoryQuarterly\"][\"cashflowStatements\"]\n",
    "\n",
    "#print(type(data_CFSQ))\n",
    "#print(len(data_CFSQ))\n",
    "#list.index\n",
    "\n",
    "#print(data)"
   ]
  },
  {
   "cell_type": "code",
   "execution_count": 94,
   "metadata": {},
   "outputs": [
    {
     "name": "stdout",
     "output_type": "stream",
     "text": [
      "<class 'list'>\n",
      "4\n"
     ]
    },
    {
     "data": {
      "text/plain": [
       "<method 'index' of 'list' objects>"
      ]
     },
     "execution_count": 94,
     "metadata": {},
     "output_type": "execute_result"
    }
   ],
   "source": [
    "data_CFSQ = (d.get('cashflowStatementHistoryQuarterly')).get(\"cashflowStatements\")\n",
    "print(type(data_CFSQ))\n",
    "print(len(data_CFSQ))\n",
    "list.index"
   ]
  },
  {
   "cell_type": "code",
   "execution_count": 95,
   "metadata": {},
   "outputs": [],
   "source": [
    "\n",
    "#\"changeToLiabilities\"\n",
    "#\"netBorrowings\"\n",
    "##\"totalCashFromFinancingActivities\"\n",
    "#\"changeToOperatingActivities\"\n",
    "#\"issuanceOfStock\"\n",
    "#\"netIncome\"\n",
    "#\"changeInCash\"\n",
    "#\"endDate\"\n",
    "#\"repurchaseOfStock\"\n",
    "#\"totalCashFromOperatingActivities\"\n",
    "##\"depreciation\"\n",
    "#\"changeToInventory\"\n",
    "#\"changeToAccountReceivables\"\n",
    "#\"maxAge\"\n",
    "#\"changeToNetincome\"\n",
    "\n",
    "#aassign symbol searched to all rows.\n",
    "\n",
    "df_symbol = (symbol , symbol , symbol, symbol ) \n",
    "df_symbol = pd.DataFrame(df_symbol,columns=['symbol'])\n",
    "\n",
    "invest = []  \n",
    "endDate = []  \n",
    "changeToLiabilities = []\n",
    "netBorrowings = []\n",
    "totalCashFromFinancingActivities = []\n",
    "changeToOperatingActivities = []\n",
    "issuanceOfStock = []\n",
    "netIncome = []\n",
    "changeInCash = []\n",
    "endDate = []\n",
    "repurchaseOfStock = []\n",
    "totalCashFromOperatingActivities = []\n",
    "depreciation = []\n",
    "changeToInventory = []\n",
    "changeToAccountReceivables = []\n",
    "maxAge = []\n",
    "changeToNetincome = []\n",
    "\n",
    "\n",
    "\n",
    "\n",
    "\n",
    "for y in range(4):\n",
    "    invest.append(data_CFSQ[y]['investments']['fmt']),\n",
    "    endDate.append(data_CFSQ[y]['endDate']['fmt']),\n",
    "    changeToLiabilities.append(data_CFSQ[y]['changeToLiabilities']['fmt']),\n",
    "    netBorrowings.append(data_CFSQ[y]['netBorrowings']['fmt']),\n",
    "    totalCashFromFinancingActivities.append(data_CFSQ[y]['totalCashFromFinancingActivities']['fmt']),\n",
    "    changeToOperatingActivities.append(data_CFSQ[y]['changeToOperatingActivities']['fmt']),\n",
    "    #date.append(data_CFSQ[y]['issuanceOfStock']['fmt']),\n",
    "    netIncome.append(data_CFSQ[y]['netIncome']['fmt']),\n",
    "    changeInCash.append(data_CFSQ[y]['changeInCash']['fmt']),\n",
    "   # date.append(data[y]['repurchaseOfStock']['fmt']),\n",
    "    totalCashFromOperatingActivities.append(data_CFSQ[y]['totalCashFromOperatingActivities']['fmt']),\n",
    "    depreciation.append(data_CFSQ[y]['depreciation']['fmt']),\n",
    "    changeToInventory.append(data_CFSQ[y]['changeToInventory']['fmt']),\n",
    "    changeToAccountReceivables.append(data_CFSQ[y]['changeToAccountReceivables']['fmt']),\n",
    "    #date.append(data_CFSQ[y]['maxAge']['fmt']),\n",
    "    changeToNetincome.append(data_CFSQ[y]['changeToNetincome']['fmt']),\n",
    "    \n",
    "\n",
    "    \n",
    "\n",
    "df_Invest = pd.DataFrame(invest,columns=['investments'])\n",
    "df_endDate = pd.DataFrame(endDate,columns=['endDate'])\n",
    "df_changeToLiabilities = pd.DataFrame(changeToLiabilities,columns=['changeToLiabilities'])\n",
    "df_netBorrowings = pd.DataFrame(netBorrowings,columns=['netBorrowings'])\n",
    "df_totalCashFromFinancingActivities = pd.DataFrame(totalCashFromFinancingActivities,columns=['totalCashFromFinancingActivities'])\n",
    "df_changeToOperatingActivities = pd.DataFrame(changeToOperatingActivities,columns=['changeToOperatingActivities'])\n",
    "#df_enddate = pd.DataFrame(date,columns=['issuanceOfStock'])\n",
    "df_netIncome = pd.DataFrame(netIncome,columns=['netIncome'])\n",
    "df_changeInCash = pd.DataFrame(changeInCash,columns=['changeInCash'])\n",
    "#df_enddate = pd.DataFrame(date,columns=['repurchaseOfStock'])\n",
    "df_totalCashFromOperatingActivities = pd.DataFrame(totalCashFromOperatingActivities,columns=['totalCashFromOperatingActivities'])\n",
    "df_depreciation = pd.DataFrame(depreciation,columns=['depreciation'])\n",
    "df_changeToInventory = pd.DataFrame(changeToInventory,columns=['changeToInventory'])\n",
    "df_changeToAccountReceivables = pd.DataFrame(changeToAccountReceivables,columns=['changeToAccountReceivables'])\n",
    "#df_enddate = pd.DataFrame(date,columns=['maxAge'])\n",
    "df_changeToNetincome = pd.DataFrame(changeToNetincome,columns=['changeToNetincome'])\n",
    "\n",
    "\n",
    "\n",
    "#print (df_enddate)\n",
    "#print (df_Invest)\n",
    "\n",
    "#print (df_Invest)\n",
    "\n",
    "#print (df_endDate)\n",
    "#$print (df_changeToAccountReceivables)\n",
    "#print (df_changeToNetincome)\n",
    "\n",
    "\n",
    "data = pd.concat([df_symbol, df_endDate, df_Invest, \n",
    "               df_changeToLiabilities, \n",
    "               df_netBorrowings, \n",
    "               df_totalCashFromFinancingActivities, \n",
    "               df_changeToOperatingActivities, \n",
    "               df_netIncome,\n",
    "               df_changeInCash,\n",
    "               df_totalCashFromOperatingActivities,\n",
    "               df_depreciation,\n",
    "               df_changeToInventory,\n",
    "               df_changeToAccountReceivables,\n",
    "               df_changeToNetincome,\n",
    "               \n",
    "               \n",
    "              ], axis=1)\n",
    "#print(data)\n",
    "\n",
    "\n",
    "\n",
    "\n"
   ]
  },
  {
   "cell_type": "code",
   "execution_count": 98,
   "metadata": {},
   "outputs": [],
   "source": [
    "#print (data)"
   ]
  },
  {
   "cell_type": "code",
   "execution_count": 99,
   "metadata": {},
   "outputs": [
    {
     "name": "stdout",
     "output_type": "stream",
     "text": [
      "(4, 14)\n",
      "RangeIndex(start=0, stop=4, step=1)\n",
      "Index(['symbol', 'endDate', 'investments', 'changeToLiabilities',\n",
      "       'netBorrowings', 'totalCashFromFinancingActivities',\n",
      "       'changeToOperatingActivities', 'netIncome', 'changeInCash',\n",
      "       'totalCashFromOperatingActivities', 'depreciation', 'changeToInventory',\n",
      "       'changeToAccountReceivables', 'changeToNetincome'],\n",
      "      dtype='object')\n"
     ]
    }
   ],
   "source": [
    "print(data.shape)\n",
    "print (data.index)\n",
    "print(data.columns)"
   ]
  },
  {
   "cell_type": "code",
   "execution_count": 213,
   "metadata": {},
   "outputs": [
    {
     "data": {
      "text/html": [
       "<div>\n",
       "<style scoped>\n",
       "    .dataframe tbody tr th:only-of-type {\n",
       "        vertical-align: middle;\n",
       "    }\n",
       "\n",
       "    .dataframe tbody tr th {\n",
       "        vertical-align: top;\n",
       "    }\n",
       "\n",
       "    .dataframe thead th {\n",
       "        text-align: right;\n",
       "    }\n",
       "</style>\n",
       "<table border=\"1\" class=\"dataframe\">\n",
       "  <thead>\n",
       "    <tr style=\"text-align: right;\">\n",
       "      <th></th>\n",
       "      <th>0</th>\n",
       "      <th>1</th>\n",
       "      <th>2</th>\n",
       "      <th>3</th>\n",
       "    </tr>\n",
       "  </thead>\n",
       "  <tbody>\n",
       "    <tr>\n",
       "      <th>endDate</th>\n",
       "      <td>2020-03-31</td>\n",
       "      <td>2019-12-31</td>\n",
       "      <td>2019-09-30</td>\n",
       "      <td>2019-06-30</td>\n",
       "    </tr>\n",
       "    <tr>\n",
       "      <th>investments</th>\n",
       "      <td>-3.38B</td>\n",
       "      <td>1.18B</td>\n",
       "      <td>-1.29B</td>\n",
       "      <td>-4.79B</td>\n",
       "    </tr>\n",
       "    <tr>\n",
       "      <th>changeToLiabilities</th>\n",
       "      <td>-7.44B</td>\n",
       "      <td>11.17B</td>\n",
       "      <td>173M</td>\n",
       "      <td>4.06B</td>\n",
       "    </tr>\n",
       "    <tr>\n",
       "      <th>netBorrowings</th>\n",
       "      <td>-2.59B</td>\n",
       "      <td>-3.57B</td>\n",
       "      <td>-1.96B</td>\n",
       "      <td>-2.16B</td>\n",
       "    </tr>\n",
       "    <tr>\n",
       "      <th>totalCashflowsFromInvestingActivities</th>\n",
       "      <td>NaN</td>\n",
       "      <td>NaN</td>\n",
       "      <td>NaN</td>\n",
       "      <td>NaN</td>\n",
       "    </tr>\n",
       "    <tr>\n",
       "      <th>changeToOperatingActivities</th>\n",
       "      <td>-2.76B</td>\n",
       "      <td>2.89B</td>\n",
       "      <td>-722M</td>\n",
       "      <td>-623M</td>\n",
       "    </tr>\n",
       "    <tr>\n",
       "      <th>netIncome</th>\n",
       "      <td>2.54B</td>\n",
       "      <td>3.27B</td>\n",
       "      <td>2.13B</td>\n",
       "      <td>2.62B</td>\n",
       "    </tr>\n",
       "    <tr>\n",
       "      <th>changeInCash</th>\n",
       "      <td>-8.9B</td>\n",
       "      <td>12.86B</td>\n",
       "      <td>589M</td>\n",
       "      <td>-542M</td>\n",
       "    </tr>\n",
       "    <tr>\n",
       "      <th>totalCashFromOperatingActivities</th>\n",
       "      <td>3.06B</td>\n",
       "      <td>19.66B</td>\n",
       "      <td>7.89B</td>\n",
       "      <td>9.12B</td>\n",
       "    </tr>\n",
       "    <tr>\n",
       "      <th>depreciation</th>\n",
       "      <td>5.36B</td>\n",
       "      <td>6.17B</td>\n",
       "      <td>5.56B</td>\n",
       "      <td>5.2B</td>\n",
       "    </tr>\n",
       "    <tr>\n",
       "      <th>changeToInventory</th>\n",
       "      <td>1.39B</td>\n",
       "      <td>-1.52B</td>\n",
       "      <td>-381M</td>\n",
       "      <td>-2.1B</td>\n",
       "    </tr>\n",
       "    <tr>\n",
       "      <th>changeToAccountReceivables</th>\n",
       "      <td>1.26B</td>\n",
       "      <td>-3.9B</td>\n",
       "      <td>-1.18B</td>\n",
       "      <td>-2.19B</td>\n",
       "    </tr>\n",
       "    <tr>\n",
       "      <th>changeToNetincome</th>\n",
       "      <td>2.71B</td>\n",
       "      <td>1.58B</td>\n",
       "      <td>2.31B</td>\n",
       "      <td>2.15B</td>\n",
       "    </tr>\n",
       "  </tbody>\n",
       "</table>\n",
       "</div>"
      ],
      "text/plain": [
       "                                                0           1           2  \\\n",
       "endDate                                2020-03-31  2019-12-31  2019-09-30   \n",
       "investments                                -3.38B       1.18B      -1.29B   \n",
       "changeToLiabilities                        -7.44B      11.17B        173M   \n",
       "netBorrowings                              -2.59B      -3.57B      -1.96B   \n",
       "totalCashflowsFromInvestingActivities         NaN         NaN         NaN   \n",
       "changeToOperatingActivities                -2.76B       2.89B       -722M   \n",
       "netIncome                                   2.54B       3.27B       2.13B   \n",
       "changeInCash                                -8.9B      12.86B        589M   \n",
       "totalCashFromOperatingActivities            3.06B      19.66B       7.89B   \n",
       "depreciation                                5.36B       6.17B       5.56B   \n",
       "changeToInventory                           1.39B      -1.52B       -381M   \n",
       "changeToAccountReceivables                  1.26B       -3.9B      -1.18B   \n",
       "changeToNetincome                           2.71B       1.58B       2.31B   \n",
       "\n",
       "                                                3  \n",
       "endDate                                2019-06-30  \n",
       "investments                                -4.79B  \n",
       "changeToLiabilities                         4.06B  \n",
       "netBorrowings                              -2.16B  \n",
       "totalCashflowsFromInvestingActivities         NaN  \n",
       "changeToOperatingActivities                 -623M  \n",
       "netIncome                                   2.62B  \n",
       "changeInCash                                -542M  \n",
       "totalCashFromOperatingActivities            9.12B  \n",
       "depreciation                                 5.2B  \n",
       "changeToInventory                           -2.1B  \n",
       "changeToAccountReceivables                 -2.19B  \n",
       "changeToNetincome                           2.15B  "
      ]
     },
     "execution_count": 213,
     "metadata": {},
     "output_type": "execute_result"
    }
   ],
   "source": [
    "#df_Total = pd.DataFrame(df_Invest + df_enddate,columns=['endDate','investments'])\n",
    "#for x in range(len(data)): \n",
    " #   print (data[x]),\n",
    "\n",
    "df_ = pd.DataFrame(data, columns=['endDate', 'investments', 'changeToLiabilities','netBorrowings',\n",
    "       'totalCashflowsFromInvestingActivities', 'changeToOperatingActivities','netIncome',\n",
    "       'changeInCash', 'totalCashFromOperatingActivities',\n",
    "       'depreciation', 'changeToInventory', 'changeToAccountReceivables',\n",
    "       'changeToNetincome'])\n",
    "    \n",
    "df_.index\n",
    "df_.shape\n",
    "CFS_Q = df_.T\n",
    "CFS_Q"
   ]
  },
  {
   "cell_type": "code",
   "execution_count": 214,
   "metadata": {},
   "outputs": [
    {
     "name": "stdout",
     "output_type": "stream",
     "text": [
      "43\n"
     ]
    }
   ],
   "source": [
    "## price data \n",
    "\n",
    "data_price = d[\"price\"]\n",
    "#data = d[\"cashflowStatementHistoryQuarterly\"][\"cashflowStatements\"]\n",
    "print(len(data_price))\n",
    "#print(data_price)"
   ]
  },
  {
   "cell_type": "code",
   "execution_count": 225,
   "metadata": {},
   "outputs": [
    {
     "name": "stdout",
     "output_type": "stream",
     "text": [
      "                       price_qoute_Names       price_qoute\n",
      "0                       quoteSourceNamee     Delayed Quote\n",
      "1                               longName  Amazon.com, Inc.\n",
      "2                      regularMarketOpen          2,444.51\n",
      "3               averageDailyVolume3Month             5.65M\n",
      "4                         preMarketPrice                {}\n",
      "5                        preMarketChange                {}\n",
      "6                       postMarketChange                -4\n",
      "7   postMarketPrice, regularMarketDayLow              2479\n",
      "8                    regularMarketVolume           2437.13\n",
      "9                            marketState           3306445\n",
      "10               postMarketChangePercent            CLOSED\n",
      "11                                   NaN       -0.00161095\n"
     ]
    }
   ],
   "source": [
    "\n",
    "\n",
    "#for y in range(4):\n",
    "\n",
    "quoteSourceNamee_live = data_price['quoteSourceName']\n",
    "regularMarketOpen_live = data_price['regularMarketOpen']['fmt']\n",
    "averageDailyVolume3Month_live = data_price['averageDailyVolume3Month']['fmt']\n",
    "volume24Hr_live = data_price['volume24Hr']\n",
    "longName_live= data_price['longName']\n",
    "\n",
    "preMarketPrice_live = data_price['preMarketPrice']\n",
    "preMarketChange_live = data_price['preMarketChange']\n",
    "postMarketChange_live = data_price['postMarketChange']['raw']\n",
    "postMarketPrice_live = data_price['postMarketPrice']['raw']\n",
    "regularMarketDayLow_live = data_price['regularMarketDayLow']['raw']\n",
    "regularMarketPrice_live = data_price['regularMarketPrice']['raw']\n",
    "regularMarketVolume_live = data_price['regularMarketVolume']['raw']\n",
    "marketState_live = data_price['marketState']\n",
    "postMarketChangePercent_live = data_price['postMarketChangePercent']['raw']\n",
    "\n",
    "\n",
    "price_qoute_Names = (\"quoteSourceNamee\", \n",
    "                       \"longName\",\n",
    "                       \"regularMarketOpen\",\n",
    "                       \"averageDailyVolume3Month\",\n",
    "                       \"preMarketPrice\", \n",
    "                       \"preMarketChange\", \"postMarketChange\", \n",
    "                       \"postMarketPrice, regularMarketDayLow\",  \n",
    "                       \"regularMarketVolume\",\n",
    "                       \"marketState\",\n",
    "                       \"postMarketChangePercent\",\n",
    "                      )\n",
    "\n",
    "price_qoute = (quoteSourceNamee_live, \n",
    "               longName_live,\n",
    "               regularMarketOpen_live,\n",
    "               averageDailyVolume3Month_live,\n",
    "               preMarketPrice_live, \n",
    "               preMarketChange_live, postMarketChange_live, \n",
    "               postMarketPrice_live, regularMarketDayLow_live,  \n",
    "               regularMarketVolume_live,\n",
    "               marketState_live,\n",
    "               postMarketChangePercent_live,\n",
    "               \n",
    "              ) \n",
    "df_price_qoute = pd.DataFrame(price_qoute,columns=['price_qoute'])\n",
    "df_price_qoute_Names = pd.DataFrame(price_qoute_Names,columns=['price_qoute_Names'])\n",
    "\n",
    "df_Final_Qoute = pd.concat([df_price_qoute_Names, df_price_qoute], axis=1)\n",
    "\n",
    "#df_price_qoute = pd.DataFrame(price_qoute + ,columns=['quoteSourceName'])\n",
    "\n",
    "\n",
    "print(df_Final_Qoute)\n"
   ]
  },
  {
   "cell_type": "code",
   "execution_count": null,
   "metadata": {},
   "outputs": [],
   "source": [
    "\n"
   ]
  },
  {
   "cell_type": "code",
   "execution_count": null,
   "metadata": {},
   "outputs": [],
   "source": [
    "print(df2.iloc[1])\n",
    "\n",
    "#print(df1[['endDate']].iloc[1].str.split(pat = \"2019\", expand=True))\n",
    "#look up by row number \n"
   ]
  },
  {
   "cell_type": "code",
   "execution_count": null,
   "metadata": {},
   "outputs": [],
   "source": []
  },
  {
   "cell_type": "code",
   "execution_count": null,
   "metadata": {},
   "outputs": [],
   "source": []
  },
  {
   "cell_type": "code",
   "execution_count": null,
   "metadata": {},
   "outputs": [],
   "source": []
  },
  {
   "cell_type": "code",
   "execution_count": null,
   "metadata": {},
   "outputs": [],
   "source": []
  },
  {
   "cell_type": "code",
   "execution_count": 188,
   "metadata": {},
   "outputs": [
    {
     "name": "stdout",
     "output_type": "stream",
     "text": [
      "endDate    {'raw': 1577750400, 'fmt': '2019-12-31'}\n",
      "Name: 1, dtype: object\n"
     ]
    }
   ],
   "source": []
  },
  {
   "cell_type": "code",
   "execution_count": 190,
   "metadata": {},
   "outputs": [
    {
     "name": "stdout",
     "output_type": "stream",
     "text": [
      "endDate    {'raw': 1585612800, 'fmt': '2020-03-31'}\n",
      "Name: 0, dtype: object\n"
     ]
    }
   ],
   "source": [
    "print(df2.iloc[0])\n"
   ]
  },
  {
   "cell_type": "code",
   "execution_count": null,
   "metadata": {},
   "outputs": [],
   "source": []
  },
  {
   "cell_type": "code",
   "execution_count": null,
   "metadata": {},
   "outputs": [],
   "source": []
  }
 ],
 "metadata": {
  "kernelspec": {
   "display_name": "Python 3",
   "language": "python",
   "name": "python3"
  },
  "language_info": {
   "codemirror_mode": {
    "name": "ipython",
    "version": 3
   },
   "file_extension": ".py",
   "mimetype": "text/x-python",
   "name": "python",
   "nbconvert_exporter": "python",
   "pygments_lexer": "ipython3",
   "version": "3.7.1"
  }
 },
 "nbformat": 4,
 "nbformat_minor": 2
}
